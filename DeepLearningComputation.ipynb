{
  "nbformat": 4,
  "nbformat_minor": 0,
  "metadata": {
    "colab": {
      "name": "DeepLearningComputation.ipynb",
      "provenance": [],
      "collapsed_sections": []
    },
    "kernelspec": {
      "name": "python3",
      "display_name": "Python 3"
    },
    "language_info": {
      "name": "python"
    },
    "accelerator": "GPU"
  },
  "cells": [
    {
      "cell_type": "markdown",
      "source": [
        "# 1. Layers and Blocks"
      ],
      "metadata": {
        "id": "K8i0SoFKJAPa"
      }
    },
    {
      "cell_type": "code",
      "execution_count": 1,
      "metadata": {
        "colab": {
          "base_uri": "https://localhost:8080/"
        },
        "id": "3jk3070rISGx",
        "outputId": "979b721a-ccd5-4f11-dcfc-d05277b6eb76"
      },
      "outputs": [
        {
          "output_type": "execute_result",
          "data": {
            "text/plain": [
              "<tf.Tensor: shape=(2, 10), dtype=float32, numpy=\n",
              "array([[-0.06222891, -0.17196688,  0.2036386 , -0.2251272 ,  0.22940761,\n",
              "         0.34944227,  0.08656169, -0.12790237, -0.09025874,  0.2684117 ],\n",
              "       [-0.09128021, -0.12361296,  0.11901814, -0.23772673,  0.06365148,\n",
              "         0.31885412, -0.04279087,  0.08079015, -0.0642566 ,  0.11309112]],\n",
              "      dtype=float32)>"
            ]
          },
          "metadata": {},
          "execution_count": 1
        }
      ],
      "source": [
        "import tensorflow as tf\n",
        "\n",
        "net = tf.keras.models.Sequential([\n",
        "    tf.keras.layers.Dense(256, activation=tf.nn.relu),\n",
        "    tf.keras.layers.Dense(10),\n",
        "])\n",
        "\n",
        "X = tf.random.uniform((2, 20))\n",
        "net(X)"
      ]
    },
    {
      "cell_type": "markdown",
      "source": [
        "## 1.1 Custom Block"
      ],
      "metadata": {
        "id": "HaUUhzGaJnrH"
      }
    },
    {
      "cell_type": "code",
      "source": [
        "class MLP(tf.keras.Model):\n",
        "    # Declare a layer with model parameters. Here, we declare two fully\n",
        "    # connected layers\n",
        "    def __init__(self):\n",
        "        # Call the constructor of the `MLP` parent class `Model` to perform\n",
        "        # the necessary initialization. In this way, other function arguments\n",
        "        # can also be specified during class instantiation, such as the model\n",
        "        # parameters, `params` (to be described later)\n",
        "        super().__init__()\n",
        "        # Hidden layer\n",
        "        self.hidden = tf.keras.layers.Dense(units=256, activation=tf.nn.relu)\n",
        "        self.out = tf.keras.layers.Dense(units=10)  # Output layer\n",
        "\n",
        "    # Define the forward propagation of the model, that is, how to return the\n",
        "    # required model output based on the input `X`\n",
        "    def call(self, X):\n",
        "        return self.out(self.hidden((X)))"
      ],
      "metadata": {
        "id": "lKDKz6pjI5y7"
      },
      "execution_count": 2,
      "outputs": []
    },
    {
      "cell_type": "code",
      "source": [
        "net = MLP()\n",
        "net(X)"
      ],
      "metadata": {
        "colab": {
          "base_uri": "https://localhost:8080/"
        },
        "id": "dwoCDZZJJxZb",
        "outputId": "96b5df96-f872-40ce-800b-430f7a77d8c8"
      },
      "execution_count": 3,
      "outputs": [
        {
          "output_type": "execute_result",
          "data": {
            "text/plain": [
              "<tf.Tensor: shape=(2, 10), dtype=float32, numpy=\n",
              "array([[-0.13969803, -0.1913996 , -0.24217474, -0.2782334 , -0.16825482,\n",
              "         0.09777202,  0.01107033,  0.09087402,  0.10981197, -0.00366692],\n",
              "       [-0.18240345,  0.14917527, -0.35338515, -0.1436439 , -0.11380327,\n",
              "         0.295904  ,  0.143857  , -0.20154278,  0.07379955,  0.02182088]],\n",
              "      dtype=float32)>"
            ]
          },
          "metadata": {},
          "execution_count": 3
        }
      ]
    },
    {
      "cell_type": "markdown",
      "source": [
        "## 1.2 The Sequential Block"
      ],
      "metadata": {
        "id": "CNS1y6qAJ4LK"
      }
    },
    {
      "cell_type": "code",
      "source": [
        "class MySequential(tf.keras.Model):\n",
        "    def __init__(self, *args):\n",
        "        super().__init__()\n",
        "        self.modules = []\n",
        "        for block in args:\n",
        "            # Here, `block` is an instance of a `tf.keras.layers.Layer`\n",
        "            # subclass\n",
        "            self.modules.append(block)\n",
        "\n",
        "    def call(self, X):\n",
        "        for module in self.modules:\n",
        "            X = module(X)\n",
        "        return X"
      ],
      "metadata": {
        "id": "5pEz3wFcJ9Ft"
      },
      "execution_count": 4,
      "outputs": []
    },
    {
      "cell_type": "code",
      "source": [
        "net = MySequential(\n",
        "    tf.keras.layers.Dense(units=256, activation=tf.nn.relu),\n",
        "    tf.keras.layers.Dense(10))\n",
        "net(X)"
      ],
      "metadata": {
        "colab": {
          "base_uri": "https://localhost:8080/"
        },
        "id": "UnmysR6rKFm0",
        "outputId": "144afb99-38d5-43b9-8fdf-2f3ce26f14fc"
      },
      "execution_count": 5,
      "outputs": [
        {
          "output_type": "execute_result",
          "data": {
            "text/plain": [
              "<tf.Tensor: shape=(2, 10), dtype=float32, numpy=\n",
              "array([[-0.15146804, -0.03545818, -0.1305592 ,  0.00319199, -0.08673549,\n",
              "         0.17839594, -0.06062969, -0.22432752, -0.06102191, -0.26956275],\n",
              "       [-0.16200311, -0.3693706 , -0.1258937 , -0.25277346,  0.14243928,\n",
              "        -0.0049958 ,  0.11719096, -0.18466173, -0.1453983 , -0.16852704]],\n",
              "      dtype=float32)>"
            ]
          },
          "metadata": {},
          "execution_count": 5
        }
      ]
    },
    {
      "cell_type": "markdown",
      "source": [
        "## 1.3 Executing Code in The Forward Propagation Function"
      ],
      "metadata": {
        "id": "QrSm52UUKJkc"
      }
    },
    {
      "cell_type": "code",
      "source": [
        "class FixedHiddenMLP(tf.keras.Model):\n",
        "    def __init__(self):\n",
        "        super().__init__()\n",
        "        self.flatten = tf.keras.layers.Flatten()\n",
        "        # Random weight parameters created with `tf.constant` are not updated\n",
        "        # during training (i.e., constant parameters)\n",
        "        self.rand_weight = tf.constant(tf.random.uniform((20, 20)))\n",
        "        self.dense = tf.keras.layers.Dense(20, activation=tf.nn.relu)\n",
        "\n",
        "    def call(self, inputs):\n",
        "        X = self.flatten(inputs)\n",
        "        # Use the created constant parameters, as well as the `relu` and\n",
        "        # `matmul` functions\n",
        "        X = tf.nn.relu(tf.matmul(X, self.rand_weight) + 1)\n",
        "        # Reuse the fully-connected layer. This is equivalent to sharing\n",
        "        # parameters with two fully-connected layers\n",
        "        X = self.dense(X)\n",
        "        # Control flow\n",
        "        while tf.reduce_sum(tf.math.abs(X)) > 1:\n",
        "            X /= 2\n",
        "        return tf.reduce_sum(X)"
      ],
      "metadata": {
        "id": "B0bB1Fs3KXh0"
      },
      "execution_count": 6,
      "outputs": []
    },
    {
      "cell_type": "code",
      "source": [
        "net = FixedHiddenMLP()\n",
        "net(X)"
      ],
      "metadata": {
        "colab": {
          "base_uri": "https://localhost:8080/"
        },
        "id": "FlYleOsyKk4I",
        "outputId": "306d6150-debe-487f-961f-5e48a7ed8faa"
      },
      "execution_count": 7,
      "outputs": [
        {
          "output_type": "execute_result",
          "data": {
            "text/plain": [
              "<tf.Tensor: shape=(), dtype=float32, numpy=0.9486791>"
            ]
          },
          "metadata": {},
          "execution_count": 7
        }
      ]
    },
    {
      "cell_type": "code",
      "source": [
        "# We can mix and match various ways of assembling blocks together. In the following example, we nest blocks in some creative ways.\n",
        "class NestMLP(tf.keras.Model):\n",
        "    def __init__(self):\n",
        "        super().__init__()\n",
        "        self.net = tf.keras.Sequential()\n",
        "        self.net.add(tf.keras.layers.Dense(64, activation=tf.nn.relu))\n",
        "        self.net.add(tf.keras.layers.Dense(32, activation=tf.nn.relu))\n",
        "        self.dense = tf.keras.layers.Dense(16, activation=tf.nn.relu)\n",
        "\n",
        "    def call(self, inputs):\n",
        "        return self.dense(self.net(inputs))\n",
        "\n",
        "chimera = tf.keras.Sequential()\n",
        "chimera.add(NestMLP())\n",
        "chimera.add(tf.keras.layers.Dense(20))\n",
        "chimera.add(FixedHiddenMLP())\n",
        "chimera(X)"
      ],
      "metadata": {
        "colab": {
          "base_uri": "https://localhost:8080/"
        },
        "id": "_pYfNMVrKmb1",
        "outputId": "e4bbb1e8-09a5-48e8-834c-75aecc7a3587"
      },
      "execution_count": 8,
      "outputs": [
        {
          "output_type": "execute_result",
          "data": {
            "text/plain": [
              "<tf.Tensor: shape=(), dtype=float32, numpy=0.5655581>"
            ]
          },
          "metadata": {},
          "execution_count": 8
        }
      ]
    },
    {
      "cell_type": "markdown",
      "source": [
        "# 2. Parameter Management"
      ],
      "metadata": {
        "id": "MMl69Ogdp5lQ"
      }
    },
    {
      "cell_type": "code",
      "source": [
        "import tensorflow as tf\n",
        "\n",
        "net = tf.keras.models.Sequential([\n",
        "    tf.keras.layers.Flatten(),\n",
        "    tf.keras.layers.Dense(4, activation=tf.nn.relu),\n",
        "    tf.keras.layers.Dense(1),\n",
        "])\n",
        "\n",
        "X = tf.random.uniform((2, 4))\n",
        "net(X)"
      ],
      "metadata": {
        "colab": {
          "base_uri": "https://localhost:8080/"
        },
        "id": "QGin383OqNM3",
        "outputId": "3b8902f8-2276-4aa8-fc0c-07b541bc664a"
      },
      "execution_count": 9,
      "outputs": [
        {
          "output_type": "execute_result",
          "data": {
            "text/plain": [
              "<tf.Tensor: shape=(2, 1), dtype=float32, numpy=\n",
              "array([[ 0.11526399],\n",
              "       [-0.04729105]], dtype=float32)>"
            ]
          },
          "metadata": {},
          "execution_count": 9
        }
      ]
    },
    {
      "cell_type": "markdown",
      "source": [
        "## 2.1 Parameter Access"
      ],
      "metadata": {
        "id": "iF8IiVuEqWnZ"
      }
    },
    {
      "cell_type": "code",
      "source": [
        "print(net.layers[2].weights)"
      ],
      "metadata": {
        "colab": {
          "base_uri": "https://localhost:8080/"
        },
        "id": "qSA1mOybqe-h",
        "outputId": "39768081-a5d8-4acd-e730-4dab6ad25394"
      },
      "execution_count": 10,
      "outputs": [
        {
          "output_type": "stream",
          "name": "stdout",
          "text": [
            "[<tf.Variable 'dense_13/kernel:0' shape=(4, 1) dtype=float32, numpy=\n",
            "array([[ 0.16626787],\n",
            "       [ 0.2467295 ],\n",
            "       [-0.230353  ],\n",
            "       [-0.88905907]], dtype=float32)>, <tf.Variable 'dense_13/bias:0' shape=(1,) dtype=float32, numpy=array([0.], dtype=float32)>]\n"
          ]
        }
      ]
    },
    {
      "cell_type": "markdown",
      "source": [
        "### 2.1.1 Targeted parameters"
      ],
      "metadata": {
        "id": "CgiecUgeqnuC"
      }
    },
    {
      "cell_type": "code",
      "source": [
        "print(type(net.layers[2].weights[1]))\n",
        "print(net.layers[2].weights[1])\n",
        "print(tf.convert_to_tensor(net.layers[2].weights[1]))"
      ],
      "metadata": {
        "colab": {
          "base_uri": "https://localhost:8080/"
        },
        "id": "cihuoUVCqrSY",
        "outputId": "71a4a86f-a0b5-462f-9de9-0677df65a6db"
      },
      "execution_count": 11,
      "outputs": [
        {
          "output_type": "stream",
          "name": "stdout",
          "text": [
            "<class 'tensorflow.python.ops.resource_variable_ops.ResourceVariable'>\n",
            "<tf.Variable 'dense_13/bias:0' shape=(1,) dtype=float32, numpy=array([0.], dtype=float32)>\n",
            "tf.Tensor([0.], shape=(1,), dtype=float32)\n"
          ]
        }
      ]
    },
    {
      "cell_type": "markdown",
      "source": [
        "2.1.2 All Parameters at Once"
      ],
      "metadata": {
        "id": "GTOo9ly4qvko"
      }
    },
    {
      "cell_type": "code",
      "source": [
        "print(net.layers[1].weights)\n",
        "print(net.get_weights())"
      ],
      "metadata": {
        "colab": {
          "base_uri": "https://localhost:8080/"
        },
        "id": "KM-9T6j8qzvd",
        "outputId": "57037d82-d96a-41f0-bf10-abbdb4aed563"
      },
      "execution_count": 12,
      "outputs": [
        {
          "output_type": "stream",
          "name": "stdout",
          "text": [
            "[<tf.Variable 'dense_12/kernel:0' shape=(4, 4) dtype=float32, numpy=\n",
            "array([[-0.53698206, -0.42250696,  0.18927497, -0.5560837 ],\n",
            "       [ 0.8151714 ,  0.61882097,  0.3599543 , -0.5611894 ],\n",
            "       [-0.69905794,  0.6539009 , -0.45241654,  0.10148877],\n",
            "       [ 0.68699104, -0.5055659 ,  0.29404014, -0.44249555]],\n",
            "      dtype=float32)>, <tf.Variable 'dense_12/bias:0' shape=(4,) dtype=float32, numpy=array([0., 0., 0., 0.], dtype=float32)>]\n",
            "[array([[-0.53698206, -0.42250696,  0.18927497, -0.5560837 ],\n",
            "       [ 0.8151714 ,  0.61882097,  0.3599543 , -0.5611894 ],\n",
            "       [-0.69905794,  0.6539009 , -0.45241654,  0.10148877],\n",
            "       [ 0.68699104, -0.5055659 ,  0.29404014, -0.44249555]],\n",
            "      dtype=float32), array([0., 0., 0., 0.], dtype=float32), array([[ 0.16626787],\n",
            "       [ 0.2467295 ],\n",
            "       [-0.230353  ],\n",
            "       [-0.88905907]], dtype=float32), array([0.], dtype=float32)]\n"
          ]
        }
      ]
    },
    {
      "cell_type": "code",
      "source": [
        "net.get_weights()[1]"
      ],
      "metadata": {
        "colab": {
          "base_uri": "https://localhost:8080/"
        },
        "id": "v3qvjYKNq9Gm",
        "outputId": "5b1f749f-6965-4bd2-ed8d-eb4440ae61b1"
      },
      "execution_count": 13,
      "outputs": [
        {
          "output_type": "execute_result",
          "data": {
            "text/plain": [
              "array([0., 0., 0., 0.], dtype=float32)"
            ]
          },
          "metadata": {},
          "execution_count": 13
        }
      ]
    },
    {
      "cell_type": "markdown",
      "source": [
        "### 2.1.3 Collecting Parameters from Nested Blocks"
      ],
      "metadata": {
        "id": "8ewaRbGOq-td"
      }
    },
    {
      "cell_type": "code",
      "source": [
        "def block1(name):\n",
        "    return tf.keras.Sequential([\n",
        "        tf.keras.layers.Flatten(),\n",
        "        tf.keras.layers.Dense(4, activation=tf.nn.relu)],\n",
        "        name=name)\n",
        "\n",
        "def block2():\n",
        "    net = tf.keras.Sequential()\n",
        "    for i in range(4):\n",
        "        # Nested here\n",
        "        net.add(block1(name=f'block-{i}'))\n",
        "    return net\n",
        "\n",
        "rgnet = tf.keras.Sequential()\n",
        "rgnet.add(block2())\n",
        "rgnet.add(tf.keras.layers.Dense(1))\n",
        "rgnet(X)"
      ],
      "metadata": {
        "colab": {
          "base_uri": "https://localhost:8080/"
        },
        "id": "ApnLBR1TrSuA",
        "outputId": "1fb8c6e9-ea2b-41c4-8c73-0e3a593213a1"
      },
      "execution_count": 14,
      "outputs": [
        {
          "output_type": "execute_result",
          "data": {
            "text/plain": [
              "<tf.Tensor: shape=(2, 1), dtype=float32, numpy=\n",
              "array([[-0.01037564],\n",
              "       [-0.01594275]], dtype=float32)>"
            ]
          },
          "metadata": {},
          "execution_count": 14
        }
      ]
    },
    {
      "cell_type": "code",
      "source": [
        "print(rgnet.summary())"
      ],
      "metadata": {
        "colab": {
          "base_uri": "https://localhost:8080/"
        },
        "id": "fA_9XJcprZf0",
        "outputId": "fbac46d4-a74c-4e5a-d20b-f57b4704f8fa"
      },
      "execution_count": 15,
      "outputs": [
        {
          "output_type": "stream",
          "name": "stdout",
          "text": [
            "Model: \"sequential_4\"\n",
            "_________________________________________________________________\n",
            " Layer (type)                Output Shape              Param #   \n",
            "=================================================================\n",
            " sequential_5 (Sequential)   (2, 4)                    80        \n",
            "                                                                 \n",
            " dense_18 (Dense)            (2, 1)                    5         \n",
            "                                                                 \n",
            "=================================================================\n",
            "Total params: 85\n",
            "Trainable params: 85\n",
            "Non-trainable params: 0\n",
            "_________________________________________________________________\n",
            "None\n"
          ]
        }
      ]
    },
    {
      "cell_type": "code",
      "source": [
        "rgnet.layers[0].layers[1].layers[1].weights[1]"
      ],
      "metadata": {
        "colab": {
          "base_uri": "https://localhost:8080/"
        },
        "id": "b-xQ8a0IrlTb",
        "outputId": "3d283232-d47b-402d-eb42-e47ce73dbcad"
      },
      "execution_count": 16,
      "outputs": [
        {
          "output_type": "execute_result",
          "data": {
            "text/plain": [
              "<tf.Variable 'dense_15/bias:0' shape=(4,) dtype=float32, numpy=array([0., 0., 0., 0.], dtype=float32)>"
            ]
          },
          "metadata": {},
          "execution_count": 16
        }
      ]
    },
    {
      "cell_type": "markdown",
      "source": [
        "## 2.2 Parameters Initialization"
      ],
      "metadata": {
        "id": "bDdtTEFHrmuZ"
      }
    },
    {
      "cell_type": "markdown",
      "source": [
        "### 2.2.1 Built-in Initialization"
      ],
      "metadata": {
        "id": "B6UpymCtrv4d"
      }
    },
    {
      "cell_type": "code",
      "source": [
        "net = tf.keras.models.Sequential([\n",
        "    tf.keras.layers.Flatten(),\n",
        "    tf.keras.layers.Dense(\n",
        "        4, activation=tf.nn.relu,\n",
        "        kernel_initializer=tf.random_normal_initializer(mean=0, stddev=0.01),\n",
        "        bias_initializer=tf.zeros_initializer()),\n",
        "    tf.keras.layers.Dense(1)])\n",
        "\n",
        "net(X)\n",
        "net.weights[0], net.weights[1]"
      ],
      "metadata": {
        "colab": {
          "base_uri": "https://localhost:8080/"
        },
        "id": "F1wKfyc4r6VN",
        "outputId": "3248fc0d-1dc2-445e-83d5-2813542981ca"
      },
      "execution_count": 17,
      "outputs": [
        {
          "output_type": "execute_result",
          "data": {
            "text/plain": [
              "(<tf.Variable 'dense_19/kernel:0' shape=(4, 4) dtype=float32, numpy=\n",
              " array([[ 0.00321656,  0.00522881,  0.00296668, -0.00488616],\n",
              "        [-0.01304954,  0.00441194, -0.009896  ,  0.00272703],\n",
              "        [-0.01096619,  0.00364732, -0.01021454,  0.00996616],\n",
              "        [-0.00678635,  0.00309403,  0.00794162, -0.0161864 ]],\n",
              "       dtype=float32)>,\n",
              " <tf.Variable 'dense_19/bias:0' shape=(4,) dtype=float32, numpy=array([0., 0., 0., 0.], dtype=float32)>)"
            ]
          },
          "metadata": {},
          "execution_count": 17
        }
      ]
    },
    {
      "cell_type": "code",
      "source": [
        "# We can also initialize all the parameters to a given constant value (say, 1).\n",
        "net = tf.keras.models.Sequential([\n",
        "    tf.keras.layers.Flatten(),\n",
        "    tf.keras.layers.Dense(\n",
        "        4, activation=tf.nn.relu,\n",
        "        kernel_initializer=tf.keras.initializers.Constant(1),\n",
        "        bias_initializer=tf.zeros_initializer()),\n",
        "    tf.keras.layers.Dense(1),\n",
        "])\n",
        "\n",
        "net(X)\n",
        "net.weights[0], net.weights[1]"
      ],
      "metadata": {
        "colab": {
          "base_uri": "https://localhost:8080/"
        },
        "id": "i8Dk6Rtkr_AK",
        "outputId": "718f5935-ec96-43b9-e3d0-74cf84ecb935"
      },
      "execution_count": 18,
      "outputs": [
        {
          "output_type": "execute_result",
          "data": {
            "text/plain": [
              "(<tf.Variable 'dense_21/kernel:0' shape=(4, 4) dtype=float32, numpy=\n",
              " array([[1., 1., 1., 1.],\n",
              "        [1., 1., 1., 1.],\n",
              "        [1., 1., 1., 1.],\n",
              "        [1., 1., 1., 1.]], dtype=float32)>,\n",
              " <tf.Variable 'dense_21/bias:0' shape=(4,) dtype=float32, numpy=array([0., 0., 0., 0.], dtype=float32)>)"
            ]
          },
          "metadata": {},
          "execution_count": 18
        }
      ]
    },
    {
      "cell_type": "code",
      "source": [
        "# We can also apply different initializers for certain blocks. \n",
        "# For example, below we initialize the first layer with the Xavier \n",
        "# initializer and initialize the second layer to a constant value of 42.\n",
        "net = tf.keras.models.Sequential([\n",
        "    tf.keras.layers.Flatten(),\n",
        "    tf.keras.layers.Dense(\n",
        "        4,\n",
        "        activation=tf.nn.relu,\n",
        "        kernel_initializer=tf.keras.initializers.GlorotUniform()),\n",
        "    tf.keras.layers.Dense(\n",
        "        1, kernel_initializer=tf.keras.initializers.Constant(42)),\n",
        "])\n",
        "\n",
        "net(X)\n",
        "print(net.layers[1].weights[0])\n",
        "print(net.layers[2].weights[0])"
      ],
      "metadata": {
        "colab": {
          "base_uri": "https://localhost:8080/"
        },
        "id": "1vpW_nzasJwz",
        "outputId": "3eb3aba2-1b4e-439f-b590-1b3ae6becbfe"
      },
      "execution_count": 19,
      "outputs": [
        {
          "output_type": "stream",
          "name": "stdout",
          "text": [
            "<tf.Variable 'dense_23/kernel:0' shape=(4, 4) dtype=float32, numpy=\n",
            "array([[-0.18759263, -0.36538583,  0.84754187, -0.5041744 ],\n",
            "       [-0.5893924 , -0.23483795, -0.35141546,  0.56761104],\n",
            "       [-0.79233265, -0.65602887, -0.45808494, -0.6857495 ],\n",
            "       [ 0.22316664,  0.13502961, -0.71060264,  0.8124419 ]],\n",
            "      dtype=float32)>\n",
            "<tf.Variable 'dense_24/kernel:0' shape=(4, 1) dtype=float32, numpy=\n",
            "array([[42.],\n",
            "       [42.],\n",
            "       [42.],\n",
            "       [42.]], dtype=float32)>\n"
          ]
        }
      ]
    },
    {
      "cell_type": "markdown",
      "source": [
        "### 2.2.2 Custom Initialization"
      ],
      "metadata": {
        "id": "rTnbKboZsWm8"
      }
    },
    {
      "cell_type": "code",
      "source": [
        "class MyInit(tf.keras.initializers.Initializer):\n",
        "    def __call__(self, shape, dtype=None):\n",
        "        data=tf.random.uniform(shape, -10, 10, dtype=dtype)\n",
        "        factor=(tf.abs(data) >= 5)\n",
        "        factor=tf.cast(factor, tf.float32)\n",
        "        return data * factor\n",
        "\n",
        "net = tf.keras.models.Sequential([\n",
        "    tf.keras.layers.Flatten(),\n",
        "    tf.keras.layers.Dense(\n",
        "        4,\n",
        "        activation=tf.nn.relu,\n",
        "        kernel_initializer=MyInit()),\n",
        "    tf.keras.layers.Dense(1),\n",
        "])\n",
        "\n",
        "net(X)\n",
        "print(net.layers[1].weights[0])"
      ],
      "metadata": {
        "colab": {
          "base_uri": "https://localhost:8080/"
        },
        "id": "USHhCd9psbAi",
        "outputId": "73206cb4-e288-4698-dfd1-15d3f7e9bd5a"
      },
      "execution_count": 20,
      "outputs": [
        {
          "output_type": "stream",
          "name": "stdout",
          "text": [
            "<tf.Variable 'dense_25/kernel:0' shape=(4, 4) dtype=float32, numpy=\n",
            "array([[-0.       , -0.       ,  0.       , -7.828107 ],\n",
            "       [-5.730922 , -7.019737 ,  6.568758 ,  6.317213 ],\n",
            "       [-8.926041 ,  7.44343  , -0.       ,  6.2375717],\n",
            "       [-0.       , -9.301245 , -9.769154 , -8.604827 ]], dtype=float32)>\n"
          ]
        }
      ]
    },
    {
      "cell_type": "code",
      "source": [
        "net.layers[1].weights[0][:].assign(net.layers[1].weights[0] + 1)\n",
        "net.layers[1].weights[0][0, 0].assign(42)\n",
        "net.layers[1].weights[0]"
      ],
      "metadata": {
        "colab": {
          "base_uri": "https://localhost:8080/"
        },
        "id": "TqRXBJ2zsfwg",
        "outputId": "2a179de3-db2a-4e93-a99d-a99b15296468"
      },
      "execution_count": 21,
      "outputs": [
        {
          "output_type": "execute_result",
          "data": {
            "text/plain": [
              "<tf.Variable 'dense_25/kernel:0' shape=(4, 4) dtype=float32, numpy=\n",
              "array([[42.       ,  1.       ,  1.       , -6.828107 ],\n",
              "       [-4.730922 , -6.019737 ,  7.568758 ,  7.317213 ],\n",
              "       [-7.9260406,  8.44343  ,  1.       ,  7.2375717],\n",
              "       [ 1.       , -8.301245 , -8.769154 , -7.604827 ]], dtype=float32)>"
            ]
          },
          "metadata": {},
          "execution_count": 21
        }
      ]
    },
    {
      "cell_type": "markdown",
      "source": [
        "## 2.3 Tied parameters"
      ],
      "metadata": {
        "id": "jxErP97Fskj5"
      }
    },
    {
      "cell_type": "code",
      "source": [
        "# tf.keras behaves a bit differently. It removes the duplicate layer\n",
        "# automatically\n",
        "shared = tf.keras.layers.Dense(4, activation=tf.nn.relu)\n",
        "net = tf.keras.models.Sequential([\n",
        "    tf.keras.layers.Flatten(),\n",
        "    shared,\n",
        "    shared,\n",
        "    tf.keras.layers.Dense(1),\n",
        "])\n",
        "\n",
        "net(X)\n",
        "# Check whether the parameters are different\n",
        "print(len(net.layers) == 3)"
      ],
      "metadata": {
        "colab": {
          "base_uri": "https://localhost:8080/"
        },
        "id": "zHiY2-mgskHf",
        "outputId": "76097e5b-38de-4ae2-9cec-5a3df4f84815"
      },
      "execution_count": 22,
      "outputs": [
        {
          "output_type": "stream",
          "name": "stdout",
          "text": [
            "True\n"
          ]
        }
      ]
    },
    {
      "cell_type": "markdown",
      "source": [
        "# 3. Deffered Initialization"
      ],
      "metadata": {
        "id": "T_zeJ7fosz-x"
      }
    },
    {
      "cell_type": "markdown",
      "source": [
        "## 3.1 Instantiating a Network"
      ],
      "metadata": {
        "id": "3M5nl1E7s5Dd"
      }
    },
    {
      "cell_type": "code",
      "source": [
        "import tensorflow as tf\n",
        "\n",
        "net = tf.keras.models.Sequential([\n",
        "    tf.keras.layers.Dense(256, activation=tf.nn.relu),\n",
        "    tf.keras.layers.Dense(10),\n",
        "])"
      ],
      "metadata": {
        "id": "bhwcejX-tB7e"
      },
      "execution_count": 23,
      "outputs": []
    },
    {
      "cell_type": "code",
      "source": [
        "[net.layers[i].get_weights() for i in range(len(net.layers))]"
      ],
      "metadata": {
        "colab": {
          "base_uri": "https://localhost:8080/"
        },
        "id": "xeJ_XPkptFWQ",
        "outputId": "a393dc4f-6e8f-41ab-af28-d4c02f28c9cc"
      },
      "execution_count": 24,
      "outputs": [
        {
          "output_type": "execute_result",
          "data": {
            "text/plain": [
              "[[], []]"
            ]
          },
          "metadata": {},
          "execution_count": 24
        }
      ]
    },
    {
      "cell_type": "code",
      "source": [
        "X = tf.random.uniform((2, 20))\n",
        "net(X)\n",
        "[w.shape for w in net.get_weights()]"
      ],
      "metadata": {
        "colab": {
          "base_uri": "https://localhost:8080/"
        },
        "id": "DR45RwActI4H",
        "outputId": "aa8b7606-f118-4f42-c40c-a0e1dd2e4dc9"
      },
      "execution_count": 25,
      "outputs": [
        {
          "output_type": "execute_result",
          "data": {
            "text/plain": [
              "[(20, 256), (256,), (256, 10), (10,)]"
            ]
          },
          "metadata": {},
          "execution_count": 25
        }
      ]
    },
    {
      "cell_type": "markdown",
      "source": [
        "# 4. Custom Layers"
      ],
      "metadata": {
        "id": "qmO8WsS2tRZa"
      }
    },
    {
      "cell_type": "markdown",
      "source": [
        "## 4.1 Layers without Parameters"
      ],
      "metadata": {
        "id": "L0ABNSRdtVO6"
      }
    },
    {
      "cell_type": "code",
      "source": [
        "import tensorflow as tf\n",
        "\n",
        "\n",
        "class CenteredLayer(tf.keras.Model):\n",
        "    def __init__(self):\n",
        "        super().__init__()\n",
        "\n",
        "    def call(self, inputs):\n",
        "        return inputs - tf.reduce_mean(inputs)"
      ],
      "metadata": {
        "id": "SUymqwmAtUaB"
      },
      "execution_count": 26,
      "outputs": []
    },
    {
      "cell_type": "code",
      "source": [
        "layer = CenteredLayer()\n",
        "layer(tf.constant([1, 2, 3, 4, 5]))"
      ],
      "metadata": {
        "colab": {
          "base_uri": "https://localhost:8080/"
        },
        "id": "XzFafNiutqEI",
        "outputId": "c0790ea5-7007-418a-db9a-8c54e71dd3f0"
      },
      "execution_count": 27,
      "outputs": [
        {
          "output_type": "execute_result",
          "data": {
            "text/plain": [
              "<tf.Tensor: shape=(5,), dtype=int32, numpy=array([-2, -1,  0,  1,  2], dtype=int32)>"
            ]
          },
          "metadata": {},
          "execution_count": 27
        }
      ]
    },
    {
      "cell_type": "code",
      "source": [
        "# We can now incorporate our layer as a component in constructing more complex models.\n",
        "net = tf.keras.Sequential([tf.keras.layers.Dense(128), CenteredLayer()])"
      ],
      "metadata": {
        "id": "UtBTxzWYtvy0"
      },
      "execution_count": 28,
      "outputs": []
    },
    {
      "cell_type": "code",
      "source": [
        "Y = net(tf.random.uniform((4, 8)))\n",
        "tf.reduce_mean(Y)"
      ],
      "metadata": {
        "colab": {
          "base_uri": "https://localhost:8080/"
        },
        "id": "eERiD-gwt4QK",
        "outputId": "6012860d-066b-41a6-de78-1cf41d494de4"
      },
      "execution_count": 29,
      "outputs": [
        {
          "output_type": "execute_result",
          "data": {
            "text/plain": [
              "<tf.Tensor: shape=(), dtype=float32, numpy=-1.8626451e-09>"
            ]
          },
          "metadata": {},
          "execution_count": 29
        }
      ]
    },
    {
      "cell_type": "markdown",
      "source": [
        "## 4.2 Layers with Parameters"
      ],
      "metadata": {
        "id": "OH6Rcxcwt5en"
      }
    },
    {
      "cell_type": "code",
      "source": [
        "class MyDense(tf.keras.Model):\n",
        "    def __init__(self, units):\n",
        "        super().__init__()\n",
        "        self.units = units\n",
        "\n",
        "    def build(self, X_shape):\n",
        "        self.weight = self.add_weight(name='weight',\n",
        "            shape=[X_shape[-1], self.units],\n",
        "            initializer=tf.random_normal_initializer())\n",
        "        self.bias = self.add_weight(\n",
        "            name='bias', shape=[self.units],\n",
        "            initializer=tf.zeros_initializer())\n",
        "\n",
        "    def call(self, X):\n",
        "        linear = tf.matmul(X, self.weight) + self.bias\n",
        "        return tf.nn.relu(linear)"
      ],
      "metadata": {
        "id": "-h3lCYKLt_gF"
      },
      "execution_count": 30,
      "outputs": []
    },
    {
      "cell_type": "code",
      "source": [
        "# Next, we instantiate the MyDense class and access its model parameters.\n",
        "dense = MyDense(3)\n",
        "dense(tf.random.uniform((2, 5)))\n",
        "dense.get_weights()"
      ],
      "metadata": {
        "colab": {
          "base_uri": "https://localhost:8080/"
        },
        "id": "3-kwy1r8uHJA",
        "outputId": "aef3581c-cf4e-47e7-d449-95310fe5116b"
      },
      "execution_count": 31,
      "outputs": [
        {
          "output_type": "execute_result",
          "data": {
            "text/plain": [
              "[array([[ 0.00939971, -0.08872261, -0.01530832],\n",
              "        [-0.03869867, -0.08737626,  0.07304317],\n",
              "        [-0.01980951, -0.03215084, -0.01451126],\n",
              "        [ 0.02407729, -0.01643955,  0.00717759],\n",
              "        [-0.03159892,  0.04607425,  0.07352412]], dtype=float32),\n",
              " array([0., 0., 0.], dtype=float32)]"
            ]
          },
          "metadata": {},
          "execution_count": 31
        }
      ]
    },
    {
      "cell_type": "code",
      "source": [
        "# We can directly carry out forward propagation calculations using custom layers.\n",
        "dense(tf.random.uniform((2, 5)))"
      ],
      "metadata": {
        "colab": {
          "base_uri": "https://localhost:8080/"
        },
        "id": "pjxhMzrBuQkj",
        "outputId": "b1cca676-18e8-4d5c-da7a-9b828c47cdd8"
      },
      "execution_count": 32,
      "outputs": [
        {
          "output_type": "execute_result",
          "data": {
            "text/plain": [
              "<tf.Tensor: shape=(2, 3), dtype=float32, numpy=\n",
              "array([[0.        , 0.        , 0.05559986],\n",
              "       [0.        , 0.        , 0.07803667]], dtype=float32)>"
            ]
          },
          "metadata": {},
          "execution_count": 32
        }
      ]
    },
    {
      "cell_type": "code",
      "source": [
        "# net = tf.keras.models.Sequential([MyDense(8), MyDense(1)])\n",
        "net = tf.keras.models.Sequential([MyDense(8), MyDense(1)])\n",
        "net(tf.random.uniform((2, 64)))"
      ],
      "metadata": {
        "colab": {
          "base_uri": "https://localhost:8080/"
        },
        "id": "krdgHZIduYAT",
        "outputId": "4b7467b6-d1c6-4a42-edbc-204b0ee4fded"
      },
      "execution_count": 33,
      "outputs": [
        {
          "output_type": "execute_result",
          "data": {
            "text/plain": [
              "<tf.Tensor: shape=(2, 1), dtype=float32, numpy=\n",
              "array([[0.00403171],\n",
              "       [0.01881127]], dtype=float32)>"
            ]
          },
          "metadata": {},
          "execution_count": 33
        }
      ]
    },
    {
      "cell_type": "markdown",
      "source": [
        "# 5. File I/O"
      ],
      "metadata": {
        "id": "WX0G1ALFuwTy"
      }
    },
    {
      "cell_type": "markdown",
      "source": [
        "## 5.1 Loading and Saving Tensors"
      ],
      "metadata": {
        "id": "VyscwuctuzqY"
      }
    },
    {
      "cell_type": "code",
      "source": [
        "import numpy as np\n",
        "import tensorflow as tf\n",
        "\n",
        "x = tf.range(4)\n",
        "np.save('x-file.npy', x)"
      ],
      "metadata": {
        "id": "pUOTIoZZu4NC"
      },
      "execution_count": 34,
      "outputs": []
    },
    {
      "cell_type": "code",
      "source": [
        "# We can now read the data from the stored file back into memory.\n",
        "x2 = np.load('x-file.npy', allow_pickle=True)\n",
        "x2"
      ],
      "metadata": {
        "colab": {
          "base_uri": "https://localhost:8080/"
        },
        "id": "oFB6bjrZu7_s",
        "outputId": "81bd45b4-aaba-49b4-b5c6-070684ee3a83"
      },
      "execution_count": 35,
      "outputs": [
        {
          "output_type": "execute_result",
          "data": {
            "text/plain": [
              "array([0, 1, 2, 3], dtype=int32)"
            ]
          },
          "metadata": {},
          "execution_count": 35
        }
      ]
    },
    {
      "cell_type": "code",
      "source": [
        "# We can store a list of tensors and read them back into memory.\n",
        "y = tf.zeros(4)\n",
        "np.save('xy-files.npy', [x, y])\n",
        "x2, y2 = np.load('xy-files.npy', allow_pickle=True)\n",
        "(x2, y2)"
      ],
      "metadata": {
        "colab": {
          "base_uri": "https://localhost:8080/"
        },
        "id": "zvVOzx1fvFhN",
        "outputId": "24dafe3d-e5df-4021-dce9-310376518756"
      },
      "execution_count": 36,
      "outputs": [
        {
          "output_type": "execute_result",
          "data": {
            "text/plain": [
              "(array([0., 1., 2., 3.]), array([0., 0., 0., 0.]))"
            ]
          },
          "metadata": {},
          "execution_count": 36
        }
      ]
    },
    {
      "cell_type": "code",
      "source": [
        "# We can even write and read a dictionary that maps from strings to tensors. \n",
        "# This is convenient when we want to read or write all the weights in a model.\n",
        "mydict = {'x': x, 'y': y}\n",
        "np.save('mydict.npy', mydict)\n",
        "mydict2 = np.load('mydict.npy', allow_pickle=True)\n",
        "mydict2"
      ],
      "metadata": {
        "colab": {
          "base_uri": "https://localhost:8080/"
        },
        "id": "JNo8CpSEvL4b",
        "outputId": "df20e081-2b39-4fc9-b111-1caff76d13c3"
      },
      "execution_count": 37,
      "outputs": [
        {
          "output_type": "execute_result",
          "data": {
            "text/plain": [
              "array({'x': <tf.Tensor: shape=(4,), dtype=int32, numpy=array([0, 1, 2, 3], dtype=int32)>, 'y': <tf.Tensor: shape=(4,), dtype=float32, numpy=array([0., 0., 0., 0.], dtype=float32)>},\n",
              "      dtype=object)"
            ]
          },
          "metadata": {},
          "execution_count": 37
        }
      ]
    },
    {
      "cell_type": "markdown",
      "source": [
        "## 5.2 Loading and Saving Model Parameters"
      ],
      "metadata": {
        "id": "qyc96hQBvR8n"
      }
    },
    {
      "cell_type": "code",
      "source": [
        "class MLP(tf.keras.Model):\n",
        "    def __init__(self):\n",
        "        super().__init__()\n",
        "        self.flatten = tf.keras.layers.Flatten()\n",
        "        self.hidden = tf.keras.layers.Dense(units=256, activation=tf.nn.relu)\n",
        "        self.out = tf.keras.layers.Dense(units=10)\n",
        "\n",
        "    def call(self, inputs):\n",
        "        x = self.flatten(inputs)\n",
        "        x = self.hidden(x)\n",
        "        return self.out(x)\n",
        "\n",
        "net = MLP()\n",
        "X = tf.random.uniform((2, 20))\n",
        "Y = net(X)"
      ],
      "metadata": {
        "id": "ZLHbxD4GvZw5"
      },
      "execution_count": 38,
      "outputs": []
    },
    {
      "cell_type": "code",
      "source": [
        "# Next, we store the parameters of the model as a file with the name “mlp.params”.\n",
        "net.save_weights('mlp.params')"
      ],
      "metadata": {
        "id": "qkFa-_OAvd-n"
      },
      "execution_count": 39,
      "outputs": []
    },
    {
      "cell_type": "code",
      "source": [
        "# To recover the model, we instantiate a clone of the original MLP model. \n",
        "# Instead of randomly initializing the model parameters, we read the parameters stored in the file directly.\n",
        "clone = MLP()\n",
        "clone.load_weights('mlp.params')"
      ],
      "metadata": {
        "colab": {
          "base_uri": "https://localhost:8080/"
        },
        "id": "XakLCYzivn85",
        "outputId": "5a950ef7-5ad2-4b3d-c81a-64cf9f062ac5"
      },
      "execution_count": 40,
      "outputs": [
        {
          "output_type": "execute_result",
          "data": {
            "text/plain": [
              "<tensorflow.python.training.tracking.util.CheckpointLoadStatus at 0x7f7ce019a210>"
            ]
          },
          "metadata": {},
          "execution_count": 40
        }
      ]
    },
    {
      "cell_type": "code",
      "source": [
        "# Since both instances have the same model parameters, the computational\n",
        "# result of the same input X should be the same. Let us verify this.\n",
        "Y_clone = clone(X)\n",
        "Y_clone == Y"
      ],
      "metadata": {
        "colab": {
          "base_uri": "https://localhost:8080/"
        },
        "id": "OL70aJTfvtle",
        "outputId": "1ce00e27-d2a3-410e-b05f-bfb8159c344a"
      },
      "execution_count": 41,
      "outputs": [
        {
          "output_type": "execute_result",
          "data": {
            "text/plain": [
              "<tf.Tensor: shape=(2, 10), dtype=bool, numpy=\n",
              "array([[ True,  True,  True,  True,  True,  True,  True,  True,  True,\n",
              "         True],\n",
              "       [ True,  True,  True,  True,  True,  True,  True,  True,  True,\n",
              "         True]])>"
            ]
          },
          "metadata": {},
          "execution_count": 41
        }
      ]
    },
    {
      "cell_type": "markdown",
      "source": [
        "# 6. GPUs"
      ],
      "metadata": {
        "id": "IVBFZeQYv91G"
      }
    },
    {
      "cell_type": "code",
      "source": [
        "!nvidia-smi"
      ],
      "metadata": {
        "colab": {
          "base_uri": "https://localhost:8080/"
        },
        "id": "AXvBtE8iwAwH",
        "outputId": "04df710f-6df7-44d4-dc7e-08481bc1dbf6"
      },
      "execution_count": 42,
      "outputs": [
        {
          "output_type": "stream",
          "name": "stdout",
          "text": [
            "Tue Apr 12 15:28:35 2022       \n",
            "+-----------------------------------------------------------------------------+\n",
            "| NVIDIA-SMI 460.32.03    Driver Version: 460.32.03    CUDA Version: 11.2     |\n",
            "|-------------------------------+----------------------+----------------------+\n",
            "| GPU  Name        Persistence-M| Bus-Id        Disp.A | Volatile Uncorr. ECC |\n",
            "| Fan  Temp  Perf  Pwr:Usage/Cap|         Memory-Usage | GPU-Util  Compute M. |\n",
            "|                               |                      |               MIG M. |\n",
            "|===============================+======================+======================|\n",
            "|   0  Tesla K80           Off  | 00000000:00:04.0 Off |                    0 |\n",
            "| N/A   37C    P0    57W / 149W |    195MiB / 11441MiB |      0%      Default |\n",
            "|                               |                      |                  N/A |\n",
            "+-------------------------------+----------------------+----------------------+\n",
            "                                                                               \n",
            "+-----------------------------------------------------------------------------+\n",
            "| Processes:                                                                  |\n",
            "|  GPU   GI   CI        PID   Type   Process name                  GPU Memory |\n",
            "|        ID   ID                                                   Usage      |\n",
            "|=============================================================================|\n",
            "+-----------------------------------------------------------------------------+\n"
          ]
        }
      ]
    },
    {
      "cell_type": "markdown",
      "source": [
        "## 6.1 Computing Devices"
      ],
      "metadata": {
        "id": "qZ93FsR8yBDr"
      }
    },
    {
      "cell_type": "code",
      "source": [
        "import tensorflow as tf\n",
        "\n",
        "tf.device('/CPU:0'), tf.device('/GPU:0'), tf.device('/GPU:1')"
      ],
      "metadata": {
        "colab": {
          "base_uri": "https://localhost:8080/"
        },
        "id": "OGg2ALM2wAiC",
        "outputId": "1b39674d-9c56-4d2c-ac72-9a881856f6d5"
      },
      "execution_count": 43,
      "outputs": [
        {
          "output_type": "execute_result",
          "data": {
            "text/plain": [
              "(<tensorflow.python.eager.context._EagerDeviceContext at 0x7f7ce00d3dc0>,\n",
              " <tensorflow.python.eager.context._EagerDeviceContext at 0x7f7ce00d1370>,\n",
              " <tensorflow.python.eager.context._EagerDeviceContext at 0x7f7ce00d12d0>)"
            ]
          },
          "metadata": {},
          "execution_count": 43
        }
      ]
    },
    {
      "cell_type": "code",
      "source": [
        "# We can query the number of available GPUs.\n",
        "len(tf.config.experimental.list_physical_devices('GPU'))"
      ],
      "metadata": {
        "colab": {
          "base_uri": "https://localhost:8080/"
        },
        "id": "No0MnaF-yJ56",
        "outputId": "5b7c1f7b-ce72-4336-cb80-f8d6837b9358"
      },
      "execution_count": 44,
      "outputs": [
        {
          "output_type": "execute_result",
          "data": {
            "text/plain": [
              "1"
            ]
          },
          "metadata": {},
          "execution_count": 44
        }
      ]
    },
    {
      "cell_type": "code",
      "source": [
        "def try_gpu(i=0):\n",
        "    \"\"\"Return gpu(i) if exists, otherwise return cpu().\"\"\"\n",
        "    if len(tf.config.experimental.list_physical_devices('GPU')) >= i + 1:\n",
        "        return tf.device(f'/GPU:{i}')\n",
        "    return tf.device('/CPU:0')\n",
        "\n",
        "def try_all_gpus():\n",
        "    \"\"\"Return all available GPUs, or [cpu(),] if no GPU exists.\"\"\"\n",
        "    num_gpus = len(tf.config.experimental.list_physical_devices('GPU'))\n",
        "    devices = [tf.device(f'/GPU:{i}') for i in range(num_gpus)]\n",
        "    return devices if devices else [tf.device('/CPU:0')]\n",
        "\n",
        "try_gpu(), try_gpu(10), try_all_gpus()"
      ],
      "metadata": {
        "colab": {
          "base_uri": "https://localhost:8080/"
        },
        "id": "4lkyrHdIypLv",
        "outputId": "2db55c23-f670-4b7a-89df-e6e4c0336088"
      },
      "execution_count": 45,
      "outputs": [
        {
          "output_type": "execute_result",
          "data": {
            "text/plain": [
              "(<tensorflow.python.eager.context._EagerDeviceContext at 0x7f7ce00c8550>,\n",
              " <tensorflow.python.eager.context._EagerDeviceContext at 0x7f7ce00c8be0>,\n",
              " [<tensorflow.python.eager.context._EagerDeviceContext at 0x7f7ce00c8b90>])"
            ]
          },
          "metadata": {},
          "execution_count": 45
        }
      ]
    },
    {
      "cell_type": "markdown",
      "source": [
        "## 6.2 Tensors and GPUs"
      ],
      "metadata": {
        "id": "WRSn0NV5yyR5"
      }
    },
    {
      "cell_type": "code",
      "source": [
        "x = tf.constant([1, 2, 3])\n",
        "x.device"
      ],
      "metadata": {
        "colab": {
          "base_uri": "https://localhost:8080/",
          "height": 35
        },
        "id": "PVxv8PXEys_w",
        "outputId": "5fb03484-2818-424f-bbb8-c1d6acfffff6"
      },
      "execution_count": 46,
      "outputs": [
        {
          "output_type": "execute_result",
          "data": {
            "text/plain": [
              "'/job:localhost/replica:0/task:0/device:GPU:0'"
            ],
            "application/vnd.google.colaboratory.intrinsic+json": {
              "type": "string"
            }
          },
          "metadata": {},
          "execution_count": 46
        }
      ]
    },
    {
      "cell_type": "markdown",
      "source": [
        "### 6.2.1 Storage on the GPU"
      ],
      "metadata": {
        "id": "-SB6rZuvy8wd"
      }
    },
    {
      "cell_type": "code",
      "source": [
        "with try_gpu():\n",
        "    X = tf.ones((2, 3))\n",
        "X"
      ],
      "metadata": {
        "colab": {
          "base_uri": "https://localhost:8080/"
        },
        "id": "8ruW7x4KzClZ",
        "outputId": "732acde9-4db3-4dca-940e-0dc6ba9ca995"
      },
      "execution_count": 47,
      "outputs": [
        {
          "output_type": "execute_result",
          "data": {
            "text/plain": [
              "<tf.Tensor: shape=(2, 3), dtype=float32, numpy=\n",
              "array([[1., 1., 1.],\n",
              "       [1., 1., 1.]], dtype=float32)>"
            ]
          },
          "metadata": {},
          "execution_count": 47
        }
      ]
    },
    {
      "cell_type": "code",
      "source": [
        "# Assuming that you have at least two GPUs, the following code will create a random tensor on the second GPU.\n",
        "with try_gpu(1):\n",
        "    Y = tf.random.uniform((2, 3))\n",
        "Y"
      ],
      "metadata": {
        "colab": {
          "base_uri": "https://localhost:8080/"
        },
        "id": "fb1pylvyzHEB",
        "outputId": "78931507-06be-42b8-b895-6041cfcfe8c4"
      },
      "execution_count": 48,
      "outputs": [
        {
          "output_type": "execute_result",
          "data": {
            "text/plain": [
              "<tf.Tensor: shape=(2, 3), dtype=float32, numpy=\n",
              "array([[0.22166204, 0.29817438, 0.39078116],\n",
              "       [0.79865026, 0.8618169 , 0.7450571 ]], dtype=float32)>"
            ]
          },
          "metadata": {},
          "execution_count": 48
        }
      ]
    },
    {
      "cell_type": "markdown",
      "source": [
        "### 6.2.2 Copying"
      ],
      "metadata": {
        "id": "L4YCojHhzUmW"
      }
    },
    {
      "cell_type": "code",
      "source": [
        "with try_gpu(1):\n",
        "    Z = X\n",
        "print(X)\n",
        "print(Z)"
      ],
      "metadata": {
        "colab": {
          "base_uri": "https://localhost:8080/"
        },
        "id": "1aunqFB3zXUC",
        "outputId": "8e98b65e-867b-447b-bd4b-25013e2d76e8"
      },
      "execution_count": 49,
      "outputs": [
        {
          "output_type": "stream",
          "name": "stdout",
          "text": [
            "tf.Tensor(\n",
            "[[1. 1. 1.]\n",
            " [1. 1. 1.]], shape=(2, 3), dtype=float32)\n",
            "tf.Tensor(\n",
            "[[1. 1. 1.]\n",
            " [1. 1. 1.]], shape=(2, 3), dtype=float32)\n"
          ]
        }
      ]
    },
    {
      "cell_type": "code",
      "source": [
        "# Now that the data are on the same GPU (both Z and Y are), we can add them up.\n",
        "Y + Z"
      ],
      "metadata": {
        "colab": {
          "base_uri": "https://localhost:8080/"
        },
        "id": "5WkvcRe9zcVz",
        "outputId": "8b9111e1-6ebb-4e41-92fe-4fda861fc795"
      },
      "execution_count": 50,
      "outputs": [
        {
          "output_type": "execute_result",
          "data": {
            "text/plain": [
              "<tf.Tensor: shape=(2, 3), dtype=float32, numpy=\n",
              "array([[1.221662 , 1.2981744, 1.3907812],\n",
              "       [1.7986503, 1.8618169, 1.7450571]], dtype=float32)>"
            ]
          },
          "metadata": {},
          "execution_count": 50
        }
      ]
    },
    {
      "cell_type": "code",
      "source": [
        "with try_gpu(1):\n",
        "    Z2 = Z\n",
        "Z2 is Z"
      ],
      "metadata": {
        "colab": {
          "base_uri": "https://localhost:8080/"
        },
        "id": "v9ndkDj5zjNF",
        "outputId": "f639a0c2-ad26-4e97-ecaf-43eabbe0fd1d"
      },
      "execution_count": 51,
      "outputs": [
        {
          "output_type": "execute_result",
          "data": {
            "text/plain": [
              "True"
            ]
          },
          "metadata": {},
          "execution_count": 51
        }
      ]
    },
    {
      "cell_type": "markdown",
      "source": [
        "## 6.3 Neural Networks and GPUs"
      ],
      "metadata": {
        "id": "zUc3sOaPzp1p"
      }
    },
    {
      "cell_type": "code",
      "source": [
        "strategy = tf.distribute.MirroredStrategy()\n",
        "with strategy.scope():\n",
        "    net = tf.keras.models.Sequential([\n",
        "        tf.keras.layers.Dense(1)])"
      ],
      "metadata": {
        "colab": {
          "base_uri": "https://localhost:8080/"
        },
        "id": "vIWoh86kzuDQ",
        "outputId": "357e7417-758f-45cb-82ca-e749a59becd3"
      },
      "execution_count": 52,
      "outputs": [
        {
          "output_type": "stream",
          "name": "stdout",
          "text": [
            "INFO:tensorflow:Using MirroredStrategy with devices ('/job:localhost/replica:0/task:0/device:GPU:0',)\n"
          ]
        }
      ]
    },
    {
      "cell_type": "code",
      "source": [
        "net(X)"
      ],
      "metadata": {
        "colab": {
          "base_uri": "https://localhost:8080/"
        },
        "id": "Io5lfh-Hzy9E",
        "outputId": "7315a021-017e-4856-f1ee-0efc269e9c49"
      },
      "execution_count": 53,
      "outputs": [
        {
          "output_type": "execute_result",
          "data": {
            "text/plain": [
              "<tf.Tensor: shape=(2, 1), dtype=float32, numpy=\n",
              "array([[1.9919541],\n",
              "       [1.9919541]], dtype=float32)>"
            ]
          },
          "metadata": {},
          "execution_count": 53
        }
      ]
    },
    {
      "cell_type": "code",
      "source": [
        "net.layers[0].weights[0].device, net.layers[0].weights[1].device"
      ],
      "metadata": {
        "colab": {
          "base_uri": "https://localhost:8080/"
        },
        "id": "sQuL1kQFz1gC",
        "outputId": "43f206a1-569c-486c-8340-b4f7c05dc36e"
      },
      "execution_count": 54,
      "outputs": [
        {
          "output_type": "execute_result",
          "data": {
            "text/plain": [
              "('/job:localhost/replica:0/task:0/device:GPU:0',\n",
              " '/job:localhost/replica:0/task:0/device:GPU:0')"
            ]
          },
          "metadata": {},
          "execution_count": 54
        }
      ]
    }
  ]
}